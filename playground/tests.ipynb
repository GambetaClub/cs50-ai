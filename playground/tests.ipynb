{
 "cells": [
  {
   "cell_type": "code",
   "execution_count": 27,
   "metadata": {},
   "outputs": [],
   "source": [
    "import csv\n",
    "import calendar\n",
    "from sklearn.neighbors import KNeighborsClassifier\n"
   ]
  },
  {
   "cell_type": "code",
   "execution_count": 5,
   "metadata": {},
   "outputs": [],
   "source": [
    "file = '../shopping/shopping.csv'"
   ]
  },
  {
   "cell_type": "code",
   "execution_count": 26,
   "metadata": {},
   "outputs": [],
   "source": [
    "months = {month: index-1 for index, month in enumerate(calendar.month_abbr) if index}\n",
    "months['June'] = months.pop('Jun')\n",
    "\n",
    "evidence = []\n",
    "labels = []\n",
    "\n",
    "with open(file, 'r') as f:\n",
    "    reader = csv.DictReader(f)\n",
    "    for row in reader:\n",
    "        evidence.append([\n",
    "            int(row['Administrative']),\n",
    "            float(row['Administrative_Duration']),\n",
    "            int(row['Informational']),\n",
    "            float(row['Informational_Duration']),\n",
    "            int(row['ProductRelated']),\n",
    "            float(row['ProductRelated_Duration']),\n",
    "            float(row['BounceRates']),\n",
    "            float(row['ExitRates']),\n",
    "            float(row['PageValues']),\n",
    "            float(row['SpecialDay']),\n",
    "            months[row['Month']],\n",
    "            int(row['OperatingSystems']),\n",
    "            int(row['Browser']),\n",
    "            int(row['Region']),\n",
    "            int(row['TrafficType']),\n",
    "            1 if row['VisitorType'] == 'Returning_Visitor' else 0,\n",
    "            1 if row['Weekend'] == 'TRUE' else 0\n",
    "        ])\n",
    "        labels.append(1 if row['Revenue'] == 'TRUE' else 0)"
   ]
  },
  {
   "cell_type": "code",
   "execution_count": 21,
   "metadata": {},
   "outputs": [
    {
     "name": "stdout",
     "output_type": "stream",
     "text": [
      "{'Jan': 0, 'Feb': 1, 'Mar': 2, 'Apr': 3, 'May': 4, 'Jun': 5, 'Jul': 6, 'Aug': 7, 'Sep': 8, 'Oct': 9, 'Nov': 10, 'Dec': 11}\n",
      "{'Jan': 0, 'Feb': 1, 'Mar': 2, 'Apr': 3, 'May': 4, 'Jul': 6, 'Aug': 7, 'Sep': 8, 'Oct': 9, 'Nov': 10, 'Dec': 11, 'June': 5}\n"
     ]
    }
   ],
   "source": [
    "abbr_to_num = {name: num-1 for num, name in enumerate(calendar.month_abbr) if num}\n",
    "print(abbr_to_num)\n",
    "abbr_to_num['June'] = abbr_to_num.pop('Jun')\n",
    "print(abbr_to_num)"
   ]
  },
  {
   "cell_type": "code",
   "execution_count": 28,
   "metadata": {},
   "outputs": [
    {
     "data": {
      "text/plain": [
       "KNeighborsClassifier(n_neighbors=1)"
      ]
     },
     "execution_count": 28,
     "metadata": {},
     "output_type": "execute_result"
    }
   ],
   "source": [
    "KNeighborsClassifier(n_neighbors=1).fit(evidence, labels)"
   ]
  },
  {
   "cell_type": "code",
   "execution_count": null,
   "metadata": {},
   "outputs": [],
   "source": [
    "        admin = int(row['Administrative'])\n",
    "        admin_duration = float(row['Administrative_Duration'])\n",
    "        info = int(row['Informational'])\n",
    "        info_duration = float(row['Informational_Duration'])\n",
    "        product = int(row['ProductRelated'])\n",
    "        product_duration = float(row['ProductRelated_Duration'])\n",
    "        bounce_rates = float(row['BounceRates'])\n",
    "        exit_rates = float(row['ExitRates'])\n",
    "        page_values = float(row['PageValues'])\n",
    "        special_day = float(row['SpecialDay'])\n",
    "        month = months[row['Month']]\n",
    "        os = int(row['OperatingSystems'])\n",
    "        browser = int(row['Browser'])\n",
    "        region = int(row['Region'])\n",
    "        traffic = int(row['TrafficType'])\n",
    "        visitor = 1 if row['VisitorType'] == 'Returning_Visitor' else 0\n",
    "        weekend = 1 if row['Weekend'] == 'TRUE' else 0\n",
    "        revenue = 1 if row['Revenue'] == 'TRUE' else 0"
   ]
  }
 ],
 "metadata": {
  "kernelspec": {
   "display_name": "Python 3",
   "language": "python",
   "name": "python3"
  },
  "language_info": {
   "codemirror_mode": {
    "name": "ipython",
    "version": 3
   },
   "file_extension": ".py",
   "mimetype": "text/x-python",
   "name": "python",
   "nbconvert_exporter": "python",
   "pygments_lexer": "ipython3",
   "version": "3.7.7"
  }
 },
 "nbformat": 4,
 "nbformat_minor": 4
}
