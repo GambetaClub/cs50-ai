{
 "cells": [
  {
   "cell_type": "code",
   "execution_count": 1,
   "metadata": {},
   "outputs": [],
   "source": [
    "import cv2\n",
    "import numpy as np\n",
    "import os"
   ]
  },
  {
   "cell_type": "code",
   "execution_count": 3,
   "metadata": {},
   "outputs": [
    {
     "name": "stdout",
     "output_type": "stream",
     "text": [
      "<class 'numpy.ndarray'>\n",
      "(45, 48, 3)\n"
     ]
    }
   ],
   "source": [
    "data_dir = '../traffic/gtsrb-small/0/00000_00000.ppm'\n",
    "img = cv2.imread(data_dir)\n",
    "print(type(img))\n",
    "print(img.shape)"
   ]
  },
  {
   "cell_type": "code",
   "execution_count": 4,
   "metadata": {},
   "outputs": [
    {
     "name": "stdout",
     "output_type": "stream",
     "text": [
      "<class 'numpy.ndarray'>\n",
      "(30, 30, 3)\n"
     ]
    }
   ],
   "source": [
    "width = 30\n",
    "height = 30\n",
    "dim = (width, height)\n",
    "\n",
    "img = cv2.resize(img, dim)\n",
    "print(type(img))\n",
    "print(img.shape)"
   ]
  },
  {
   "cell_type": "code",
   "execution_count": 5,
   "metadata": {},
   "outputs": [
    {
     "name": "stdout",
     "output_type": "stream",
     "text": [
      "../traffic/test/0/c.txt\n",
      "../traffic/test/0/b.txt\n",
      "../traffic/test/0/a.txt\n",
      "../traffic/test/1/e.txt\n",
      "../traffic/test/1/d.txt\n",
      "../traffic/test/2/f.txt\n",
      "../traffic/test/2/g.txt\n"
     ]
    }
   ],
   "source": [
    "data_dir = '../traffic/test'\n",
    "for root, dirs, files in os.walk(data_dir):\n",
    "    for file in files:\n",
    "        print(os.path.join(root, file))\n",
    "    "
   ]
  },
  {
   "cell_type": "code",
   "execution_count": null,
   "metadata": {},
   "outputs": [],
   "source": []
  }
 ],
 "metadata": {
  "kernelspec": {
   "display_name": "Python 3",
   "language": "python",
   "name": "python3"
  },
  "language_info": {
   "codemirror_mode": {
    "name": "ipython",
    "version": 3
   },
   "file_extension": ".py",
   "mimetype": "text/x-python",
   "name": "python",
   "nbconvert_exporter": "python",
   "pygments_lexer": "ipython3",
   "version": "3.7.7"
  }
 },
 "nbformat": 4,
 "nbformat_minor": 4
}
